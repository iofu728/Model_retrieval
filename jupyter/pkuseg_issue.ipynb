{
 "cells": [
  {
   "cell_type": "code",
   "execution_count": 3,
   "metadata": {},
   "outputs": [
    {
     "name": "stdout",
     "output_type": "stream",
     "text": [
      "['表', '9-12', '$$', '_', '川崎病', '的', '伴随', '症状']\n",
      "[('表', 'n'), ('9&12', 'v'), ('$$', 'v'), ('&', 'v'), ('川崎病', 'n'), ('的', 'u'), ('伴随', 'vn'), ('症状', 'n')]\n"
     ]
    }
   ],
   "source": [
    "try:\n",
    "    import pkuseg\n",
    "except:\n",
    "    !pip3 install -U pkuseg\n",
    "    import pkuseg\n",
    "    \n",
    "test_word = '表9-12$$_川崎病的伴随症状'\n",
    "seg_segmente = pkuseg.pkuseg()\n",
    "print(seg_segmente.cut(test_word))\n",
    "seg_pos = pkuseg.pkuseg(postag=True)\n",
    "print(seg_pos.cut(test_word))"
   ]
  }
 ],
 "metadata": {
  "kernelspec": {
   "display_name": "Python 3",
   "language": "python",
   "name": "python3"
  },
  "language_info": {
   "codemirror_mode": {
    "name": "ipython",
    "version": 3
   },
   "file_extension": ".py",
   "mimetype": "text/x-python",
   "name": "python",
   "nbconvert_exporter": "python",
   "pygments_lexer": "ipython3",
   "version": "3.7.2"
  }
 },
 "nbformat": 4,
 "nbformat_minor": 2
}
